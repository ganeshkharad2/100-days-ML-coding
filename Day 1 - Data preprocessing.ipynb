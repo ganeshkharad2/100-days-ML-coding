{
 "cells": [
  {
   "cell_type": "code",
   "execution_count": 1,
   "metadata": {
    "collapsed": true
   },
   "outputs": [],
   "source": [
    "import numpy as np\n",
    "import pandas as pd"
   ]
  },
  {
   "cell_type": "code",
   "execution_count": 3,
   "metadata": {
    "collapsed": true
   },
   "outputs": [],
   "source": [
    "dataset= pd.read_csv('Data.csv')"
   ]
  },
  {
   "cell_type": "markdown",
   "metadata": {},
   "source": [
    "#seprate matrix and vector of dependent and independent variable from dataframe\n",
    "\n",
    "#YOU CAN USE Shift+Enter KEY TO SEE ANY FUNCTION ARGUMENT\n",
    "\n",
    "# Single selections using iloc and DataFrame\n",
    "# Rows:\n",
    "data.iloc[0] # first row of data frame (Aleshia Tomkiewicz) - Note a Series data type output.\n",
    "data.iloc[1] # second row of data frame (Evan Zigomalas)\n",
    "data.iloc[-1] # last row of data frame (Mi Richan)\n",
    "# Columns:\n",
    "data.iloc[:,0] # first column of data frame (first_name)\n",
    "data.iloc[:,1] # second column of data frame (last_name)\n",
    "data.iloc[:,-1] # last column of data frame (id)\n",
    "\n",
    "# Multiple row and column selections using iloc and DataFrame\n",
    "data.iloc[0:5] # first five rows of dataframe\n",
    "data.iloc[:, 0:2] # first two columns of data frame with all rows\n",
    "data.iloc[[0,3,6,24], [0,5,6]] # 1st, 4th, 7th, 25th row + 1st 6th 7th columns.\n",
    "data.iloc[0:5, 5:8] # first 5 rows and 5th, 6th, 7th columns of data frame (county -> phone1).\n",
    "\n",
    "#dataset.iloc[rows,colums]  \n",
    "#note [2:6] means from 3rd to 6th row/colum"
   ]
  },
  {
   "cell_type": "code",
   "execution_count": 13,
   "metadata": {},
   "outputs": [],
   "source": [
    "#choose X= all rows & last column\n",
    "X = dataset.iloc[ : , :-1].values\n",
    "\n",
    "#choose Y= all rows & 4th column\n",
    "Y = dataset.iloc[ : , 3].values"
   ]
  },
  {
   "cell_type": "code",
   "execution_count": 14,
   "metadata": {},
   "outputs": [
    {
     "data": {
      "text/html": [
       "<div>\n",
       "<style>\n",
       "    .dataframe thead tr:only-child th {\n",
       "        text-align: right;\n",
       "    }\n",
       "\n",
       "    .dataframe thead th {\n",
       "        text-align: left;\n",
       "    }\n",
       "\n",
       "    .dataframe tbody tr th {\n",
       "        vertical-align: top;\n",
       "    }\n",
       "</style>\n",
       "<table border=\"1\" class=\"dataframe\">\n",
       "  <thead>\n",
       "    <tr style=\"text-align: right;\">\n",
       "      <th></th>\n",
       "      <th>Country</th>\n",
       "      <th>Age</th>\n",
       "      <th>Salary</th>\n",
       "      <th>Purchased</th>\n",
       "    </tr>\n",
       "  </thead>\n",
       "  <tbody>\n",
       "    <tr>\n",
       "      <th>0</th>\n",
       "      <td>France</td>\n",
       "      <td>44.0</td>\n",
       "      <td>72000.0</td>\n",
       "      <td>No</td>\n",
       "    </tr>\n",
       "    <tr>\n",
       "      <th>1</th>\n",
       "      <td>Spain</td>\n",
       "      <td>27.0</td>\n",
       "      <td>48000.0</td>\n",
       "      <td>Yes</td>\n",
       "    </tr>\n",
       "    <tr>\n",
       "      <th>2</th>\n",
       "      <td>Germany</td>\n",
       "      <td>30.0</td>\n",
       "      <td>54000.0</td>\n",
       "      <td>No</td>\n",
       "    </tr>\n",
       "    <tr>\n",
       "      <th>3</th>\n",
       "      <td>Spain</td>\n",
       "      <td>38.0</td>\n",
       "      <td>61000.0</td>\n",
       "      <td>No</td>\n",
       "    </tr>\n",
       "    <tr>\n",
       "      <th>4</th>\n",
       "      <td>Germany</td>\n",
       "      <td>40.0</td>\n",
       "      <td>NaN</td>\n",
       "      <td>Yes</td>\n",
       "    </tr>\n",
       "    <tr>\n",
       "      <th>5</th>\n",
       "      <td>France</td>\n",
       "      <td>35.0</td>\n",
       "      <td>58000.0</td>\n",
       "      <td>Yes</td>\n",
       "    </tr>\n",
       "    <tr>\n",
       "      <th>6</th>\n",
       "      <td>Spain</td>\n",
       "      <td>NaN</td>\n",
       "      <td>52000.0</td>\n",
       "      <td>No</td>\n",
       "    </tr>\n",
       "    <tr>\n",
       "      <th>7</th>\n",
       "      <td>France</td>\n",
       "      <td>48.0</td>\n",
       "      <td>79000.0</td>\n",
       "      <td>Yes</td>\n",
       "    </tr>\n",
       "    <tr>\n",
       "      <th>8</th>\n",
       "      <td>Germany</td>\n",
       "      <td>50.0</td>\n",
       "      <td>83000.0</td>\n",
       "      <td>No</td>\n",
       "    </tr>\n",
       "    <tr>\n",
       "      <th>9</th>\n",
       "      <td>France</td>\n",
       "      <td>37.0</td>\n",
       "      <td>67000.0</td>\n",
       "      <td>Yes</td>\n",
       "    </tr>\n",
       "  </tbody>\n",
       "</table>\n",
       "</div>"
      ],
      "text/plain": [
       "   Country   Age   Salary Purchased\n",
       "0   France  44.0  72000.0        No\n",
       "1    Spain  27.0  48000.0       Yes\n",
       "2  Germany  30.0  54000.0        No\n",
       "3    Spain  38.0  61000.0        No\n",
       "4  Germany  40.0      NaN       Yes\n",
       "5   France  35.0  58000.0       Yes\n",
       "6    Spain   NaN  52000.0        No\n",
       "7   France  48.0  79000.0       Yes\n",
       "8  Germany  50.0  83000.0        No\n",
       "9   France  37.0  67000.0       Yes"
      ]
     },
     "execution_count": 14,
     "metadata": {},
     "output_type": "execute_result"
    }
   ],
   "source": [
    "dataset"
   ]
  },
  {
   "cell_type": "code",
   "execution_count": 16,
   "metadata": {},
   "outputs": [],
   "source": [
    "#to handle & implement missing bank values  \n",
    "\n",
    "from sklearn.preprocessing import Imputer"
   ]
  },
  {
   "cell_type": "markdown",
   "metadata": {},
   "source": [
    "\n",
    "missing_values:\n",
    "\n",
    "Define your missing value. In python, if you double click and visualize your data, then you will see the blank data = ‘NaN. So in this case, we are going to set missing_values=’NaN’\n",
    "\n",
    "strategy:\n",
    "\n",
    "You can replace the missing data with  the following values\n",
    "1.) Mean\n",
    "2.) Median\n",
    "3.) Most_frequent i.e.(Mode) \n",
    "\n",
    "axis:\n",
    "\n",
    "1.) axis =0  This means that the computer will take the mean per column\n",
    "\n",
    "2.) axis =1  This means that the computer will take the mean per row"
   ]
  },
  {
   "cell_type": "code",
   "execution_count": 27,
   "metadata": {
    "collapsed": true
   },
   "outputs": [],
   "source": [
    "Imputer=Imputer(missing_values='NaN', strategy='mean', axis=0)"
   ]
  },
  {
   "cell_type": "code",
   "execution_count": 38,
   "metadata": {},
   "outputs": [],
   "source": [
    "#Apply imputer to your data\n",
    "\n",
    "\n",
    "Imputer = Imputer.fit(X[ : , 1:3])\n",
    "\n",
    "#Replace your blank observations with the calcuated value.\n",
    "\n",
    "X[ : , 1:3] = Imputer.transform(X[ : , 1:3])"
   ]
  },
  {
   "cell_type": "code",
   "execution_count": 44,
   "metadata": {},
   "outputs": [
    {
     "data": {
      "text/plain": [
       "array([[44.0, 72000.0],\n",
       "       [27.0, 48000.0],\n",
       "       [30.0, 54000.0],\n",
       "       [38.0, 61000.0],\n",
       "       [40.0, 63777.77777777778],\n",
       "       [35.0, 58000.0],\n",
       "       [38.77777777777778, 52000.0],\n",
       "       [48.0, 79000.0],\n",
       "       [50.0, 83000.0],\n",
       "       [37.0, 67000.0]], dtype=object)"
      ]
     },
     "execution_count": 44,
     "metadata": {},
     "output_type": "execute_result"
    }
   ],
   "source": [
    "# look NaN is gone\n",
    "X[ : , 1:3]\n"
   ]
  },
  {
   "cell_type": "code",
   "execution_count": 45,
   "metadata": {},
   "outputs": [],
   "source": [
    "# now encode categorical data\n",
    "\n",
    "from sklearn.preprocessing import LabelEncoder, OneHotEncoder\n",
    "labelencoder_X = LabelEncoder()\n",
    "X[ : , 0] = labelencoder_X.fit_transform(X[ : , 0])"
   ]
  },
  {
   "cell_type": "code",
   "execution_count": 56,
   "metadata": {},
   "outputs": [
    {
     "data": {
      "text/plain": [
       "array([ 0.,  1.,  1.,  1.,  1.,  0.,  1.,  0.,  1.,  0.])"
      ]
     },
     "execution_count": 56,
     "metadata": {},
     "output_type": "execute_result"
    }
   ],
   "source": [
    "X[ : ,0]"
   ]
  },
  {
   "cell_type": "markdown",
   "metadata": {},
   "source": [
    "Original Data\n",
    "–\n",
    "\n",
    "[‘b’, 2]\n",
    "\n",
    "–[‘c’, 3]\n",
    "\n",
    "–[‘a’, 8]\n",
    "\n",
    "–[‘b’, 4]\n",
    "\n",
    "–[‘a’, 4.9]\n",
    "\n",
    "–[‘a’, 4]\n",
    "\n",
    "–[‘b’, 8]\n",
    "\n",
    "–[‘c’, 8]\n",
    "\n",
    "–[‘d’, 3]\n",
    "\n",
    "–[‘a’, 3]\n",
    "\n",
    "–[‘c’, 6]\n",
    "\n",
    "Applied LabelEncoder\n",
    "–\n",
    "\n",
    " [1, 2]\n",
    "\n",
    "–[2, 3]\n",
    "\n",
    "–[0, 8]\n",
    "\n",
    "–[1, 4]\n",
    "\n",
    "–[0, 4.9]\n",
    "\n",
    "–[0, 4]\n",
    "\n",
    "–[1, 8]\n",
    "\n",
    "–[2, 8]\n",
    "\n",
    "–[3, 3]\n",
    "\n",
    "–[0, 3]\n",
    "\n",
    "–[2, 6]\n",
    "\n",
    "Applied OneHotEncoder\n",
    " [a,b,c,d, value]\n",
    "\n",
    "[0, 1, 0, 0, 2]\n",
    "\n",
    "[0, 0, 1, 0, 3]\n",
    "\n",
    "[1, 0, 0, 0, 8]\n",
    "\n",
    "[0, 1, 0, 0, 4]\n",
    "\n",
    "[1, 0, 0, 0, 4.9]\n",
    "\n",
    "[1, 0, 0, 0, 4]\n",
    "\n",
    "[0, 1, 0, 0, 8]\n",
    "\n",
    "[0, 0, 1, 0, 8]\n",
    "\n",
    "[0, 0, 0, 1, 3]\n",
    "\n",
    "[1, 0, 0, 0, 3]\n",
    "\n",
    "[0, 0, 1, 0, 6]\n",
    "\n",
    "Removed Dummy Trap\n",
    " [b,c,d, value]\n",
    "\n",
    "[1, 0, 0, 2]\n",
    "\n",
    "[0, 1, 0, 3]\n",
    "\n",
    "[0, 0, 0, 8]\n",
    "\n",
    "[1, 0, 0, 4]\n",
    "\n",
    "[0, 0, 0, 4.9]\n",
    "\n",
    "[0, 0, 0, 4]\n",
    "\n",
    "[1, 0, 0, 8]\n",
    "\n",
    "[0, 1, 0, 8]\n",
    "\n",
    "[0, 0, 1, 3]\n",
    "\n",
    "[0, 0, 0, 3]\n",
    "\n",
    "[0, 1, 0, 6]\n",
    "\n",
    " "
   ]
  },
  {
   "cell_type": "code",
   "execution_count": 57,
   "metadata": {
    "collapsed": true
   },
   "outputs": [],
   "source": [
    "#Creating a dummy variable\n",
    "\n",
    "onehotencoder = OneHotEncoder(categorical_features = [0])\n",
    "X = onehotencoder.fit_transform(X).toarray()\n",
    "labelencoder_Y = LabelEncoder()\n",
    "Y =  labelencoder_Y.fit_transform(Y)"
   ]
  },
  {
   "cell_type": "code",
   "execution_count": 58,
   "metadata": {},
   "outputs": [
    {
     "data": {
      "text/plain": [
       "array([[  1.00000000e+00,   0.00000000e+00,   1.00000000e+00,\n",
       "          0.00000000e+00,   0.00000000e+00,   4.40000000e+01,\n",
       "          7.20000000e+04],\n",
       "       [  0.00000000e+00,   1.00000000e+00,   0.00000000e+00,\n",
       "          0.00000000e+00,   1.00000000e+00,   2.70000000e+01,\n",
       "          4.80000000e+04],\n",
       "       [  0.00000000e+00,   1.00000000e+00,   0.00000000e+00,\n",
       "          1.00000000e+00,   0.00000000e+00,   3.00000000e+01,\n",
       "          5.40000000e+04],\n",
       "       [  0.00000000e+00,   1.00000000e+00,   0.00000000e+00,\n",
       "          0.00000000e+00,   1.00000000e+00,   3.80000000e+01,\n",
       "          6.10000000e+04],\n",
       "       [  0.00000000e+00,   1.00000000e+00,   0.00000000e+00,\n",
       "          1.00000000e+00,   0.00000000e+00,   4.00000000e+01,\n",
       "          6.37777778e+04],\n",
       "       [  1.00000000e+00,   0.00000000e+00,   1.00000000e+00,\n",
       "          0.00000000e+00,   0.00000000e+00,   3.50000000e+01,\n",
       "          5.80000000e+04],\n",
       "       [  0.00000000e+00,   1.00000000e+00,   0.00000000e+00,\n",
       "          0.00000000e+00,   1.00000000e+00,   3.87777778e+01,\n",
       "          5.20000000e+04],\n",
       "       [  1.00000000e+00,   0.00000000e+00,   1.00000000e+00,\n",
       "          0.00000000e+00,   0.00000000e+00,   4.80000000e+01,\n",
       "          7.90000000e+04],\n",
       "       [  0.00000000e+00,   1.00000000e+00,   0.00000000e+00,\n",
       "          1.00000000e+00,   0.00000000e+00,   5.00000000e+01,\n",
       "          8.30000000e+04],\n",
       "       [  1.00000000e+00,   0.00000000e+00,   1.00000000e+00,\n",
       "          0.00000000e+00,   0.00000000e+00,   3.70000000e+01,\n",
       "          6.70000000e+04]])"
      ]
     },
     "execution_count": 58,
     "metadata": {},
     "output_type": "execute_result"
    }
   ],
   "source": [
    "X"
   ]
  },
  {
   "cell_type": "code",
   "execution_count": 61,
   "metadata": {},
   "outputs": [],
   "source": [
    "from sklearn.cross_validation import train_test_split"
   ]
  },
  {
   "cell_type": "code",
   "execution_count": 63,
   "metadata": {},
   "outputs": [],
   "source": [
    "X_train, X_test, Y_train, Y_test = train_test_split(X,Y, test_size=0.33, random_state=42)"
   ]
  },
  {
   "cell_type": "code",
   "execution_count": 66,
   "metadata": {},
   "outputs": [],
   "source": [
    "#calculate howmuch standard deviation each data vary\n",
    "\n",
    "from sklearn.preprocessing import StandardScaler\n",
    "sc_X = StandardScaler()\n",
    "X_train = sc_X.fit_transform(X_train)\n",
    "X_test = sc_X.fit_transform(X_test)"
   ]
  },
  {
   "cell_type": "code",
   "execution_count": 67,
   "metadata": {},
   "outputs": [
    {
     "data": {
      "text/plain": [
       "array([[ 1.41421356, -1.41421356,  1.41421356, -0.70710678, -0.70710678,\n",
       "         1.77492515,  1.81473962],\n",
       "       [-0.70710678,  0.70710678, -0.70710678,  1.41421356, -0.70710678,\n",
       "        -1.63461486, -0.98514436],\n",
       "       [ 1.41421356, -1.41421356,  1.41421356, -0.70710678, -0.70710678,\n",
       "        -0.30868263,  0.47079531],\n",
       "       [-0.70710678,  0.70710678, -0.70710678,  1.41421356, -0.70710678,\n",
       "         0.25957403,  0.10992137],\n",
       "       [-0.70710678,  0.70710678, -0.70710678, -0.70710678,  1.41421356,\n",
       "        -0.11926375, -0.20117685],\n",
       "       [-0.70710678,  0.70710678, -0.70710678, -0.70710678,  1.41421356,\n",
       "         0.02806206, -1.20913508]])"
      ]
     },
     "execution_count": 67,
     "metadata": {},
     "output_type": "execute_result"
    }
   ],
   "source": [
    "X_train"
   ]
  }
 ],
 "metadata": {
  "kernelspec": {
   "display_name": "Python 3",
   "language": "python",
   "name": "python3"
  },
  "language_info": {
   "codemirror_mode": {
    "name": "ipython",
    "version": 3
   },
   "file_extension": ".py",
   "mimetype": "text/x-python",
   "name": "python",
   "nbconvert_exporter": "python",
   "pygments_lexer": "ipython3",
   "version": "3.6.1"
  }
 },
 "nbformat": 4,
 "nbformat_minor": 2
}
